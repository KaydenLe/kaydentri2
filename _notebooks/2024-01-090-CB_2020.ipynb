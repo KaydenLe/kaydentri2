{
 "cells": [
  {
   "cell_type": "markdown",
   "metadata": {},
   "source": [
    "---\n",
    "comments: true\n",
    "layout: post\n",
    "title: Collage Board Quiz reflection\n",
    "type: tangibles\n",
    "courses: { compsci: {week: 5} }\n",
    "---"
   ]
  },
  {
   "cell_type": "markdown",
   "metadata": {},
   "source": [
    "# My Score\n",
    "63/67\n",
    "# My Journey\n",
    "In CSP I didn't know anything at first but I had an idea how to code. Last trimester I learned a lot how to create a blog and how to create my passion project. Now I learned how to code a binary game.\n",
    "# My Discovery\n",
    "**Questions I got Wrong.**\n",
    "- Q27: I got this wrong because I didn't understand what it was asking. The correct answer didn't make sense to me because of the word \"exist\".\n",
    "\n",
    "- Q15: I got this wrong because I didn't see what was the difference in the two programs but I didn't notice that the two values were the same and in the same order so I thought the values were different.\n",
    "\n",
    "- Q14: I just thought that this question for me was a little difficult to understand and also the passage was a little too long. I looked at the steps but I thought it would display a remainder instad of a integer.\n",
    "\n",
    "- Q13: I got this wrong because I thought it was asking th total number of books that was due to be returned because of the second to last bullet point and I didn't know it was asking about books never borrowed in a given year.\n",
    "# Review\n",
    "I should review the listens and the topics that I got wrong because last time I got 66/66 and I know I can do better and I know I can get a bettter score if I review the lessons on the questions I got wrong."
   ]
  }
 ],
 "metadata": {
  "language_info": {
   "name": "python"
  },
  "orig_nbformat": 4
 },
 "nbformat": 4,
 "nbformat_minor": 2
}
