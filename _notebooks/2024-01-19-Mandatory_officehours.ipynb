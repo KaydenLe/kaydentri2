{
 "cells": [
  {
   "cell_type": "markdown",
   "metadata": {},
   "source": [
    "---\n",
    "toc: false\n",
    "comments: true\n",
    "layout: post\n",
    "title: Mandatory Office Hours Q50\n",
    "description: Q50 MCQ from 2020 Collage Board\n",
    "courses: { compsci: {week: 6 } }\n",
    "type: tangibles\n",
    "---"
   ]
  },
  {
   "cell_type": "markdown",
   "metadata": {},
   "source": [
    "## Q50\n",
    "\n",
    "An online game collects data about each player’s performance in the game. A program is used to analyze the data to make predictions about how players will perform in a new version of the game.\n",
    "\n",
    "The procedure GetPrediction (idNum) returns a predicted score for the player with ID number idNum. Assume that all predicted scores are positive. The GetPrediction procedure takes approximately 1 minute to return a result. All other operations happen nearly instantaneously.\n",
    "\n",
    "Two versions of the program are shown below."
   ]
  },
  {
   "cell_type": "code",
   "execution_count": null,
   "metadata": {
    "vscode": {
     "languageId": "plaintext"
    }
   },
   "outputs": [],
   "source": [
    "Version I\n",
    "\n",
    "topScore \n",
    " 0\n",
    "\n",
    "idList \n",
    " [1298702, 1356846, 8848491, 8675309]\n",
    "\n",
    "FOR EACH id IN idList\n",
    "\n",
    "{\n",
    "\n",
    "score \n",
    " GetPrediction (id)\n",
    "\n",
    "IF (score > topScore)\n",
    "\n",
    "{\n",
    "\n",
    "topScore \n",
    " score\n",
    "\n",
    "}\n",
    "\n",
    "}\n",
    "\n",
    "DISPLAY (topScore)\n",
    "\n",
    "Version II\n",
    "\n",
    "idList \n",
    " [1298702, 1356846, 8848491, 8675309]\n",
    "\n",
    "topID \n",
    " idList[1]\n",
    "\n",
    "FOR EACH id IN idList\n",
    "\n",
    "{\n",
    "\n",
    "IF (GetPrediction (id) > GetPrediction (topID))\n",
    "\n",
    "{\n",
    "\n",
    "topID \n",
    " id\n",
    "\n",
    "}\n",
    "\n",
    "}\n",
    "\n",
    "DISPLAY (GetPrediction (topID))\n",
    "\n"
   ]
  },
  {
   "cell_type": "markdown",
   "metadata": {},
   "source": [
    "Version I calls the GetPrediction procedure once for each element of idList, or four times total. Since each call requires 1 minute of execution time, version I requires approximately 4 minutes to execute. Version II calls the GetPrediction procedure twice for each element of idList, and then again in the final display statement. This results in the procedure being called nine times, requiring approximately 9 minutes of execution time.\n",
    "\n",
    "Both versions aim to achieve the same result, which is to find and display the highest predicted score among the players in idList. However, Version I directly updates the highest score (topScore), while Version II updates the ID of the player with the highest score (topID) and then retrieves the predicted score for that player. Version II essentially avoids calling GetPrediction multiple times for the same ID.\n",
    "\n",
    "The answer: D - Version II requires approximately 5 more minutes to execute than version I"
   ]
  }
 ],
 "metadata": {
  "language_info": {
   "name": "python"
  },
  "orig_nbformat": 4
 },
 "nbformat": 4,
 "nbformat_minor": 2
}
