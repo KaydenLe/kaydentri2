{
 "cells": [
  {
   "cell_type": "markdown",
   "metadata": {},
   "source": [
    "## Final"
   ]
  },
  {
   "cell_type": "markdown",
   "metadata": {},
   "source": [
    "## Week 1"
   ]
  },
  {
   "cell_type": "markdown",
   "metadata": {},
   "source": [
    "Make bullet points then elaborate on what i have done, Reflect on peoples team teach\n"
   ]
  },
  {
   "cell_type": "markdown",
   "metadata": {},
   "source": [
    "Down loaded all the programs for CSP such as VSCODE and homebrew. A lot of errors occurred during the process of installing and setting up all our tools. For example, a lot of the commands on the setup instructions didn't work for my mac. I attempted troubleshooting by asking peers, more experienced coders, attending office hours, and researching on my own time. I think a lot of the issue was that I had never used platforms like terminal, and I'm more used to using *HTML, CSS,* and basic *python* I ended up figuring out how to run *python*, *pip*, *brew* and the *make* command, and it taught me how to problem solve without knowing exactly what I'm doing. As I grow and learn as a computer scientist, I will pick up on these troubleshooting skills and e able to solve problems simply by expirementing. "
   ]
  },
  {
   "cell_type": "markdown",
   "metadata": {},
   "source": [
    "## Week 2"
   ]
  },
  {
   "cell_type": "markdown",
   "metadata": {},
   "source": [
    "There weren't many problems but I finally got a theme added and I finally added my freeform but making the blog and the make to work was a problem but I resolved it by fixing one of the files in the finder. I created a new repository and I added my table and chart. Since there weren't many issues I was getting ahead on ny blog and what had to be done to get ready for the pairshowcase."
   ]
  },
  {
   "cell_type": "markdown",
   "metadata": {},
   "source": [
    "## Week 3"
   ]
  },
  {
   "cell_type": "markdown",
   "metadata": {},
   "source": [
    "Quiz was not loading up on to the blog and it still has not beed resolved but it is playable on VSCode. My theory for why the quiz is not working is because my theme was preventing the for the quiz to work. Tried changing the the theme but the new theme didn't load up on to the blog. Started a new reposoritory and trasnfered all my work but it was having trouble creating a make. The make had many errors such as having an air for a markdown that didn't exist. I resolved this problem by going to week 1 hacks and putting in the make line in order to have the make to work. I don't have theme because I don't won't to deal with the problems with one until my quiz works. This whole week I basically had to start a new repository from scratch and added the quiz and copy and pasted the home from the old repository. I asked my peers and teachers for help which resolved the problem but I did have to create a new repository that set me back and I did have a lot work cut out for me on the weekend."
   ]
  },
  {
   "cell_type": "markdown",
   "metadata": {},
   "source": [
    "## Week 4"
   ]
  },
  {
   "cell_type": "markdown",
   "metadata": {},
   "source": [
    "I didn't have many problems. I had only minor problems such as the snake game colors not changing but after asking my peers if they happend to know why it wasn't changing color the issue was resolved. I also had problems with my image on the homepage of my blog not loading. The problem was that the photo file didn't exsist and I had to redownload the file of my freeform to my blog again. Using Linex and bash helped with many shortcuts. I also used agile methodology and it also was great way to do shortcuts instead of typing out long lines of code. As I was getting ahead of my blog I didn't have much work to do and all I could do is prepare my presentation for the team test."
   ]
  },
  {
   "cell_type": "markdown",
   "metadata": {},
   "source": [
    "## Week 5"
   ]
  },
  {
   "cell_type": "markdown",
   "metadata": {},
   "source": [
    "We were introduced with the student teaching presentation. My group Ameer, Marcus, and Hau had work to do and we had to get ahead for the team test and we had to finish out lesson and prepare presenting our team teach which was on iteration. We also had to work on our team test so now my group would have 2 projects to work on. My group knew that we can get to the team test last after the teamtest because first the team test was due first but also the teamtest was more of a easier project."
   ]
  },
  {
   "cell_type": "markdown",
   "metadata": {},
   "source": [
    "## Week 6"
   ]
  },
  {
   "cell_type": "markdown",
   "metadata": {},
   "source": [
    "We were working on the team teach which was basically a learning curve for us because we had to learn how iterations worked aswell. As we were working on it we were also introduced with another project which was our passion project. We were given enough time to figure out what we wanted to do for our passion project but we didn't put enough thought into it besides the thought of making a game. "
   ]
  },
  {
   "cell_type": "markdown",
   "metadata": {},
   "source": [
    "## Week 7"
   ]
  },
  {
   "cell_type": "markdown",
   "metadata": {},
   "source": [
    "My group and I finished the last of our team teach and the only thing we had to do left is get ready for what we were going to present to Mr. Lopez for the passion project. On Tuesday there was also a team teach which was data Abstraction. After what I learned from their presentation my group figured out what could be changed about our team teach and how it could be better. I learned new things about data abstraction and we were given homework. On Thursday there was some confusion because another group thought we were algorhytms but we weren't and there was just a lot of confusion so didn't have a second team teach that week. Mr. Lopez said to make a project that a more data specific based."
   ]
  },
  {
   "cell_type": "markdown",
   "metadata": {},
   "source": [
    "Data Abstraction"
   ]
  },
  {
   "cell_type": "code",
   "execution_count": 8,
   "metadata": {},
   "outputs": [
    {
     "name": "stdout",
     "output_type": "stream",
     "text": [
      "2007\n",
      "callofduty\n",
      "('Kayden', 'Marcus', 'Hau', 'Ameer')\n",
      "True\n"
     ]
    }
   ],
   "source": [
    "# Variable 1: Integer\n",
    "birthyear = \"2007\"\n",
    "print(birthyear)\n",
    "\n",
    "#Variable 2: String\n",
    "Videogame = \"callodduty\"\n",
    "print(\"callofduty\")\n",
    "\n",
    "# Variable 3: List\n",
    "GroupNames = (\"Kayden\", \"Marcus\", \"Hau\", \"Ameer\")\n",
    "print(GroupNames)\n",
    "\n",
    "# Variable 4: Booleon\n",
    "CSPisCool = True\n",
    "print(CSPisCool)\n"
   ]
  },
  {
   "cell_type": "markdown",
   "metadata": {},
   "source": [
    "Data Abstraction was very usefull we used on our passion project for displaying names and making a list. Using the Integer part of it was also usefull because it made it easier to print out the gradyear of each player. We used it on a play such as Ty Olsen and it was easy."
   ]
  },
  {
   "cell_type": "code",
   "execution_count": 6,
   "metadata": {},
   "outputs": [
    {
     "name": "stdout",
     "output_type": "stream",
     "text": [
      "2025\n"
     ]
    }
   ],
   "source": [
    "gradyear = \"2025\"\n",
    "print(gradyear)"
   ]
  },
  {
   "cell_type": "markdown",
   "metadata": {},
   "source": [
    "#### Reflection"
   ]
  },
  {
   "cell_type": "markdown",
   "metadata": {},
   "source": [
    "This week there weren't many issues just mostly learning and troubleshooting with the team teach. There wasn't many issues with passion project besides knowing what to code weather if we were supposed to code in an .md or a html and we coded in a html."
   ]
  },
  {
   "cell_type": "markdown",
   "metadata": {},
   "source": [
    "## Week 8"
   ]
  },
  {
   "cell_type": "markdown",
   "metadata": {},
   "source": [
    "This week was super busy because we had 3 team teaches and we had to present what my group wanted to do for the passion project which was to create a football game based off or similar to this game called retrobowl. We wanted to do it because my whole group played retrobowl.Making a trading card game instead so it was something cool and it was able to save data. We went with making a trading card game for Del Nortes football team becaause it would take a lot of time to put every single person from a varsity sport. We figured out that the data that we wanted to save on the trading card was the stats for each player."
   ]
  },
  {
   "cell_type": "markdown",
   "metadata": {},
   "source": [
    "The first team teach of the week was about Boolean and it was helpful."
   ]
  },
  {
   "cell_type": "code",
   "execution_count": 12,
   "metadata": {},
   "outputs": [
    {
     "name": "stdout",
     "output_type": "stream",
     "text": [
      "True\n"
     ]
    }
   ],
   "source": [
    "score = 115\n",
    "highscore = 200\n",
    "lives = 2\n",
    "result = (score < highscore) or(lives <1)\n",
    "print(result)"
   ]
  },
  {
   "cell_type": "markdown",
   "metadata": {},
   "source": [
    "Booleon was helpful because we used it when inputting the weight of players. Although I didn't earn a jollyracnher from that team teach I thought learning this skill is very useful and I can use it in the future for upcoming projects. I also thought there presentation was good because they used jolly ranchers as a reward to get people to do the popcorn hack."
   ]
  },
  {
   "cell_type": "code",
   "execution_count": 11,
   "metadata": {},
   "outputs": [
    {
     "name": "stdout",
     "output_type": "stream",
     "text": [
      "200\n"
     ]
    }
   ],
   "source": [
    "Name = \"Terry Hou\"\n",
    "Weight = 200\n",
    "result = (Weight) or (Name)\n",
    "print (result)"
   ]
  },
  {
   "cell_type": "markdown",
   "metadata": {},
   "source": [
    "The second team teach of the week was Algorithms and it was also helpful"
   ]
  },
  {
   "cell_type": "code",
   "execution_count": 13,
   "metadata": {},
   "outputs": [
    {
     "name": "stdout",
     "output_type": "stream",
     "text": [
      "Kayden Le\n"
     ]
    }
   ],
   "source": [
    "thing1 = \"Kayden \"\n",
    "thing2 = \"Le\"\n",
    "result = thing1 + thing2\n",
    "print(result)"
   ]
  },
  {
   "cell_type": "markdown",
   "metadata": {},
   "source": [
    "Although Algorithms was helpful we didn't have a chance to use it on our passion project. We would have used it to produce specific names but we didn't really need to do that. I thought presentation for alogrithms was good and very inslightful. "
   ]
  },
  {
   "cell_type": "markdown",
   "metadata": {},
   "source": [
    "The last team teach of that week was my groups which was iterations. When creating this presentation there was a learning curve and I didn't really understand it at first"
   ]
  },
  {
   "cell_type": "code",
   "execution_count": 14,
   "metadata": {},
   "outputs": [
    {
     "name": "stdout",
     "output_type": "stream",
     "text": [
      "[1, 2, 3, 4, 5, 6, 7, 8, 9, 10, 1, 2, 3, 4, 5, 6, 7, 8, 9, 10, 1, 2, 3, 4, 5, 6, 7, 8, 9, 10, 1, 2, 3, 4, 5, 6, 7, 8, 9, 10, 1, 2, 3, 4, 5, 6, 7, 8, 9, 10, 1, 2, 3, 4, 5, 6, 7, 8, 9, 10, 1, 2, 3, 4, 5, 6, 7, 8, 9, 10, 1, 2, 3, 4, 5, 6, 7, 8, 9, 10, 1, 2, 3, 4, 5, 6, 7, 8, 9, 10, 1, 2, 3, 4, 5, 6, 7, 8, 9, 10]\n"
     ]
    }
   ],
   "source": [
    "numbers = [x for x in range(1, 11)] * 10\n",
    "print(numbers)"
   ]
  },
  {
   "cell_type": "markdown",
   "metadata": {},
   "source": [
    "Although my team teach was pretty good I would say and learning this concpept was sort of complicated my group didn't find a chance to use iterations in our passion project. Iterations was very useful but we didn't have a reason and point where we should or had to use Iterations."
   ]
  },
  {
   "cell_type": "markdown",
   "metadata": {},
   "source": [
    "#### Reflection"
   ]
  },
  {
   "cell_type": "markdown",
   "metadata": {},
   "source": [
    "There weren't many issues this week because mainly we were working in the frontend mainly troubleshooting things such as how the website looks. There weren't any errors of code beside minor and small mistakes that were easy fixes."
   ]
  },
  {
   "cell_type": "markdown",
   "metadata": {},
   "source": [
    "## Week 9"
   ]
  },
  {
   "cell_type": "markdown",
   "metadata": {},
   "source": [
    "Since my group finished our team teach all we had to do is start with the Passion project. This week we mostly worked in the frontend and getting that working. We went through so many errors and versions and themes of what our website was going to look like but we landed on when and we had to get down to making it look pleasing to the eye so later we could add the data and repeat the process. This week we still had 2 team teaches but I was eager ti work on my passion porject and have it be presented the following week with the frontend."
   ]
  },
  {
   "cell_type": "markdown",
   "metadata": {},
   "source": [
    "We used Agile Methodology by assigning a scrum master which was Macus. He assigned me and Hau to work in the backend while Marcus and Ameer worked in the frontend. We would check in with Marcus at the end of each period showing and disccusssing what we have done."
   ]
  },
  {
   "cell_type": "markdown",
   "metadata": {},
   "source": [
    "The first team teach of this week was Developing an alorgithm. "
   ]
  },
  {
   "cell_type": "code",
   "execution_count": 15,
   "metadata": {},
   "outputs": [
    {
     "name": "stdout",
     "output_type": "stream",
     "text": [
      "Count of odd numbers from 1 to 10: 5\n"
     ]
    }
   ],
   "source": [
    "count = 0\n",
    "# Loop through numbers from 1 to 10\n",
    "for number in range(1, 11):  \n",
    " # Check if the number is odd\n",
    " if number % 2 != 0: \n",
    "        # Increment the count if the number is odd\n",
    "        count += 1  \n",
    "\n",
    "print(\"Count of odd numbers from 1 to 10:\", count)"
   ]
  },
  {
   "cell_type": "markdown",
   "metadata": {},
   "source": [
    "I thought that this team teach was indightful and helpful I did think that this was a bit complicated. We didn't have a chance to use this code in our passion project mainly because I thought it was too complicated and my group didn't want to use this method of code. When completing the homework for this team teach I did have to ask for help multiple times because there were some parts that I didn't understand."
   ]
  },
  {
   "cell_type": "markdown",
   "metadata": {},
   "source": [
    "The second team teach of that week was List and Search"
   ]
  },
  {
   "cell_type": "code",
   "execution_count": 21,
   "metadata": {},
   "outputs": [
    {
     "name": "stdout",
     "output_type": "stream",
     "text": [
      "[1, 3, 5, 8, 9]\n"
     ]
    },
    {
     "data": {
      "text/plain": [
       "[6, -1, 5, 12, 8]"
      ]
     },
     "execution_count": 21,
     "metadata": {},
     "output_type": "execute_result"
    }
   ],
   "source": [
    "fruits= ['Apple', 'Carrot', 'Mango', 'Peach']\n",
    "A= [1, 3, 5, 8, 9, ]\n",
    "B= [6, -1, 5, 12, 8]\n",
    "print(A) or (B)"
   ]
  },
  {
   "cell_type": "markdown",
   "metadata": {},
   "source": [
    "This team teach was good and very useful. My group used it for data of players in our passion project and it also helped us create a search bar so you are able to look for a specific player such as Marcus. I also thought this team teach was good because they gave out dinero's but even though I didn't get one it was still useful to learn because I had used t for my passion project."
   ]
  },
  {
   "cell_type": "code",
   "execution_count": 22,
   "metadata": {},
   "outputs": [
    {
     "name": "stdout",
     "output_type": "stream",
     "text": [
      "[5, 55, 15, 77]\n"
     ]
    }
   ],
   "source": [
    "Player = ['Ty', 'Noah', 'Trey', 'Terry']\n",
    "A = [5, 55, 15, 77]\n",
    "print(A)"
   ]
  },
  {
   "cell_type": "markdown",
   "metadata": {},
   "source": [
    "### Reflection"
   ]
  },
  {
   "cell_type": "markdown",
   "metadata": {},
   "source": [
    "Team teaches were insightful to learn. The passion project there started to become issues with the theme and they seemed minor but the issue wasn't getting resolved. Small picky things such as color and how centered specific logos were. Small things like those buggedd me but when asking peers for help the issue was resolved."
   ]
  },
  {
   "cell_type": "markdown",
   "metadata": {},
   "source": [
    "## Week 10"
   ]
  },
  {
   "cell_type": "markdown",
   "metadata": {},
   "source": [
    "We have connect the backend and get the postman working with the frontend. This was a long process because we had to create and do a lot such as creating an api specific to our project. Creating an API was the longest process of this. There were also another 3 team teaches this week. Mostly creating the API was the main objective of this week."
   ]
  },
  {
   "cell_type": "markdown",
   "metadata": {},
   "source": [
    "The first team teach of the week was Developing Procedures."
   ]
  },
  {
   "cell_type": "code",
   "execution_count": 24,
   "metadata": {},
   "outputs": [
    {
     "name": "stdout",
     "output_type": "stream",
     "text": [
      "Nihar is Tall.\n",
      "Will is Tall.\n",
      "Jayden is Tall.\n",
      "Howie is Tall.\n"
     ]
    }
   ],
   "source": [
    "class Short:\n",
    "    name = \"\"\n",
    "    height = 0\n",
    "\n",
    "class Tall:\n",
    "    name = \"\"\n",
    "    height = 0\n",
    "\n",
    "#Procedure to classify as short or tall\n",
    "def classify_height(name, height):\n",
    "    if height < 70:\n",
    "        short_person = Short()\n",
    "        short_person.name = name\n",
    "        return short_person\n",
    "    else:\n",
    "        tall_person = Tall()\n",
    "        tall_person.name = name\n",
    "        return tall_person\n",
    "\n",
    "# Create objects and classify them as short or tall\n",
    "person1 = classify_height(\"Nihar\", 70)\n",
    "person2 = classify_height(\"Will\", 76)\n",
    "person3 = classify_height(\"Jayden\", 75)\n",
    "person4 = classify_height(\"Howie\", 70)\n",
    "\n",
    "# Display results for all four objects\n",
    "for person in [person1, person2, person3, person4]:\n",
    "    print(f\"{person.name} is {'Short' if person is Short else 'Tall'}.\")"
   ]
  },
  {
   "cell_type": "markdown",
   "metadata": {},
   "source": [
    "I thought this team teach was good. After learning about the procedures method I thought this was very useful and I knew that we could use this in our passion project to display the positions of each player. I did think that this method was long but it was very useful. I didn't have any problems while learning this code and I thought it was straightforward."
   ]
  },
  {
   "cell_type": "code",
   "execution_count": null,
   "metadata": {},
   "outputs": [],
   "source": [
    "class offensive:\n",
    "    name = \"\"\n",
    "    position = 0\n",
    "\n",
    "class deffensive:\n",
    "    name = \"\"\n",
    "    position = 0\n",
    "\n",
    "def classify_height(name, position):\n",
    "    if position < 5:\n",
    "        offensive_person = offensive()\n",
    "        offensive_person.name = name\n",
    "        return offensive_person\n",
    "    else:\n",
    "        deffensive_person = deffensive()\n",
    "        deffensive_person.name = name\n",
    "        return deffensive_person\n",
    "\n",
    "person1 = classify_position(\"Ty\", 0)\n",
    "person2 = classify_position(\"Terry\", 0)\n",
    "person3 = classify_position(\"Ashton\", 0)\n",
    "person4 = classify_position(\"Noah\", 0)\n",
    "\n",
    "for person in [person1, person2, person3, person4]:\n",
    "    print(f\"{person.name} is {'offensive' if person is Short else 'deffensive'}.\")"
   ]
  },
  {
   "cell_type": "markdown",
   "metadata": {},
   "source": [
    "That is how we used it to determine weather or not if a player was a offesnive or deffensive player in our passion project."
   ]
  },
  {
   "cell_type": "markdown",
   "metadata": {},
   "source": [
    "The second team teach was libaries"
   ]
  },
  {
   "cell_type": "code",
   "execution_count": 33,
   "metadata": {},
   "outputs": [
    {
     "name": "stdout",
     "output_type": "stream",
     "text": [
      "8.0\n",
      "5\n"
     ]
    }
   ],
   "source": [
    "from math import sqrt\n",
    "from random import *\n",
    "num = 64\n",
    "print(sqrt(num))\n",
    "numList = [1,2,3,4,5,6]\n",
    "print(choice(numList))"
   ]
  },
  {
   "cell_type": "markdown",
   "metadata": {},
   "source": [
    "I thought libraries was very useful and insightful. My group didn't have a chance to use in our passion project. I liked this method a lot and I will use it in future projects but I didn't need to use it on my passion project because we used a different method when we could've used this and the other method already worked. We would have used it for the stats of each player. I thought that libraries was simple and it was simple to learn."
   ]
  },
  {
   "cell_type": "markdown",
   "metadata": {},
   "source": [
    "The third team teach was simulations"
   ]
  },
  {
   "cell_type": "code",
   "execution_count": 34,
   "metadata": {},
   "outputs": [
    {
     "data": {
      "text/plain": [
       "7"
      ]
     },
     "execution_count": 34,
     "metadata": {},
     "output_type": "execute_result"
    }
   ],
   "source": [
    "def algorithm(input):\n",
    "    output = input+2\n",
    "    return output\n",
    "algorithm(5)"
   ]
  },
  {
   "cell_type": "markdown",
   "metadata": {},
   "source": [
    "I thought simulations was also useful but my group also didn't have a chance to use this method in our passion project. I thought some parts of this method was complicated such as creating a speciic simulation but I thought it was very insightful and helpdul for future projects. I think I will most likely use this method in a future project."
   ]
  },
  {
   "cell_type": "markdown",
   "metadata": {},
   "source": [
    "### Reflection"
   ]
  },
  {
   "cell_type": "markdown",
   "metadata": {},
   "source": [
    "Team teaches were insightgul. We were getting done with the frontend but not finsihed. There wasn't many issues and everything went super smoothly. Every card was placed where it should be. Creating an API took the longest because we didn't know weather or not if we should start from scratch or base it off a exsisting API. We had to create the API manually but at first we did consider basing it off a NFL api because that was easier. There wasn't many issues but just a lot of thought was put into specific things."
   ]
  },
  {
   "cell_type": "markdown",
   "metadata": {},
   "source": [
    "## Week 11"
   ]
  },
  {
   "cell_type": "markdown",
   "metadata": {},
   "source": [
    "There were no more team teaches and all I had to do this week was offically connect to backend with the frontend. It was a pain getting it to work and I had to download more thing such as postman. I had to connect it and get it off a localhost. This week was also night at the museum so I really had to finish everything and get ready to finally present the project. I kept running into issues such as my API not working and the local host not working. Sometimes the server would not work. I also had to spend a lot of time on unbuntu and aws trying to get the backend situated with that. I did also need help from many peers but there is no way I could work on the backend alone so I had to ask Hau if he could get the website for the backend of a localhost. I eventually connected the backend with the frontend and on wendsday night we got to work and put all the stats in for each play into the website. Switiching between the backend and the frontend was mostly the biggest pain."
   ]
  },
  {
   "cell_type": "markdown",
   "metadata": {},
   "source": [
    "There were many issues with github but sometimes the server would crash and our localhost couldn't load up. Sometimes the make had errors but it was resolved by asking a peer because it was just a minor mistake."
   ]
  },
  {
   "cell_type": "markdown",
   "metadata": {},
   "source": [
    "#### All of my commits of the passion project:"
   ]
  }
 ],
 "metadata": {
  "kernelspec": {
   "display_name": "Python 3",
   "language": "python",
   "name": "python3"
  },
  "language_info": {
   "codemirror_mode": {
    "name": "ipython",
    "version": 3
   },
   "file_extension": ".py",
   "mimetype": "text/x-python",
   "name": "python",
   "nbconvert_exporter": "python",
   "pygments_lexer": "ipython3",
   "version": "3.11.4"
  },
  "orig_nbformat": 4
 },
 "nbformat": 4,
 "nbformat_minor": 2
}
