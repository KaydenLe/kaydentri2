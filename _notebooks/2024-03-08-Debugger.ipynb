{
 "cells": [
  {
   "cell_type": "markdown",
   "metadata": {},
   "source": [
    "---\n",
    "toc: true\n",
    "comments: true\n",
    "layout: post\n",
    "title: Debugger\n",
    "courses: {'compsci': {'week':25}}\n",
    "type: hacks\n",
    "---"
   ]
  },
  {
   "cell_type": "markdown",
   "metadata": {},
   "source": [
    "## Debugger Event\n",
    "## Start backend using Debugging\n",
    "<img width=\"1018\" alt=\"Screenshot 2024-03-08 at 9 42 14 AM\" src=\"https://github.com/KaydenLe/kaydentri2/assets/142542385/239a8783-38eb-4901-8a99-832e64e39565\">\n",
    "\n",
    "## Set break point at the beginning of endpoint code\n"
   ]
  }
 ],
 "metadata": {
  "language_info": {
   "name": "python"
  },
  "orig_nbformat": 4
 },
 "nbformat": 4,
 "nbformat_minor": 2
}
