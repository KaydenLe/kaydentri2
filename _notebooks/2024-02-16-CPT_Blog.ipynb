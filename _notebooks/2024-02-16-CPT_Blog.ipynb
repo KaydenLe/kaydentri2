{
 "cells": [
  {
   "cell_type": "markdown",
   "metadata": {},
   "source": [
    "---\n",
    "toc: true\n",
    "comments: true\n",
    "layout: post\n",
    "title: CPT Blog\n",
    "courses: {'compsci': {'week':11}}\n",
    "type: hacks\n",
    "---"
   ]
  },
  {
   "cell_type": "markdown",
   "metadata": {},
   "source": [
    "## Capture the moment\n",
    "\n",
    "My teams demo worked pretty well such as the logging in and showcasing the events by adding and deleting events to the users schedule. Looking at all the events also worked well.\n",
    "The feedback that we got was only one user was a loud to sign up for one event and multiple people were not able to sign up for the same event.\n",
    "![Image](https://github.com/nighthawkcoders/teacher_portfolio/assets/142542385/2bcc5b58-c896-4317-a977-6f8979903b3b)\n",
    "\n",
    "Things that impressed me was the supermario demo and I thought that was pretty cool. I few things I saw outside of Compsci was the photography room. The photos I saw in the room I thought looked cool and caught my eye.\n",
    "\n",
    "![Image](https://github.com/nighthawkcoders/teacher_portfolio/assets/142542385/4419c50e-9705-4292-89ea-54eafce72012)\n",
    "![Image](https://github.com/nighthawkcoders/teacher_portfolio/assets/142542385/5797f66d-6688-4f55-a8e2-f5909f831c28)\n",
    "![Image](https://github.com/nighthawkcoders/teacher_portfolio/assets/142542385/1f29182a-6879-4d6c-95e3-6c2394e2196d)\n",
    "![Image](https://github.com/nighthawkcoders/teacher_portfolio/assets/142542385/e4485485-5db4-4964-9666-597f0b2677cd)\n",
    "\n"
   ]
  }
 ],
 "metadata": {
  "language_info": {
   "name": "python"
  },
  "orig_nbformat": 4
 },
 "nbformat": 4,
 "nbformat_minor": 2
}
