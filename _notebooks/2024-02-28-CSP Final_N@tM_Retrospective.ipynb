{
 "cells": [
  {
   "cell_type": "markdown",
   "metadata": {},
   "source": [
    "---\n",
    "toc: true\n",
    "comments: true\n",
    "layout: post\n",
    "title: CPT Blog\n",
    "courses: {'compsci': {'week':12}}\n",
    "type: hacks\n",
    "---"
   ]
  },
  {
   "cell_type": "markdown",
   "metadata": {},
   "source": [
    "## Opportunity Connect Map\n",
    "### Correlation to CPT\n",
    "CPT Requirements | Explanation\n",
    "-- | --\n",
    "Instructions for input from user | The input is when they click on the marker which triggers an output <img width=\"1125\" alt=\"Screenshot 2024-02-28 at 1 29 41 PM\" src=\"https://github.com/KaydenLe/kaydentri2/assets/142542385/06c8f53a-30d3-4fd3-a3ce-825d7b6183fe\">\n",
    "Use of at least one list (or other collection type) |This is a Map object used to store a unique collection of addresses (as keys) and their corresponding event titles (as values). This Map is created from the events array to ensure each address is unique, and only the last encountered title for that address is stored.<img width=\"844\" alt=\"Screenshot 2024-02-28 at 1 33 30 PM\" src=\"https://github.com/KaydenLe/kaydentri2/assets/142542385/d22bb339-b114-4d95-944f-e005a6d10d43\">\n",
    "At least one procedure that contributes to the program’s intended purpose | My feature uses fetch and gets data from the API endpoint <img width=\"739\" alt=\"Screenshot 2024-02-27 at 11 17 26 PM\" src=\"https://github.com/KaydenLe/kaydentri2/assets/142542385/265a9002-7a19-49cb-af3b-0e4510499d7c\">\n",
    "An algorithm that includes sequencing, selection, and iteration | This uses the forEach method to iterate over each marker in the markers array and add it to the map. <img width=\"550\" alt=\"Screenshot 2024-02-28 at 7 07 41 PM\" src=\"https://github.com/KaydenLe/kaydentri2/assets/142542385/cf2cfb40-6f03-49f4-9ba5-3eba5ca4e51b\">\n",
    "Calls to your student-developed procedure | The addListener method is called on marker instances to attach click event listeners to them. This is a procedure for handling events when markers are clicked. <img width=\"1116\" alt=\"Screenshot 2024-02-28 at 7 13 02 PM\" src=\"https://github.com/KaydenLe/kaydentri2/assets/142542385/511c2cae-ca3f-439c-b88a-12fe45f86c21\">\n",
    "Instructions for output based on input | It returns the addresses and latitude and longitude. <img width=\"1125\" alt=\"Screenshot 2024-02-28 at 1 29 41 PM\" src=\"https://github.com/KaydenLe/kaydentri2/assets/142542385/06c8f53a-30d3-4fd3-a3ce-825d7b6183fe\">"
   ]
  },
  {
   "cell_type": "markdown",
   "metadata": {},
   "source": [
    "### CPT Video\n",
    "[Video](https://drive.google.com/file/d/16aiWgGbKSXw45w45ZiW_j4EgAyQydxov/view?usp=sharing)"
   ]
  }
 ],
 "metadata": {
  "language_info": {
   "name": "python"
  },
  "orig_nbformat": 4
 },
 "nbformat": 4,
 "nbformat_minor": 2
}
