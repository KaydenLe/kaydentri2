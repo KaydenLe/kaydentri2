{
 "cells": [
  {
   "cell_type": "markdown",
   "metadata": {},
   "source": [
    "---\n",
    "toc: true\n",
    "comments: true\n",
    "layout: post\n",
    "title: JS Basics Test\n",
    "courses: { compsci: {week: 6} }\n",
    "type: hacks\n",
    "---"
   ]
  },
  {
   "cell_type": "markdown",
   "metadata": {},
   "source": [
    "## How to use JS in your WebPage"
   ]
  },
  {
   "cell_type": "markdown",
   "metadata": {},
   "source": [
    "# Whenever you want to use Javascript on your Webpage you need to inset the JavaScript code inbetween two script codes\n",
    "\n",
    "Example below"
   ]
  },
  {
   "cell_type": "code",
   "execution_count": null,
   "metadata": {
    "vscode": {
     "languageId": "javascript"
    }
   },
   "outputs": [],
   "source": [
    "<script> </script>"
   ]
  },
  {
   "cell_type": "markdown",
   "metadata": {},
   "source": [
    "## What is Javascript used for?"
   ]
  },
  {
   "cell_type": "markdown",
   "metadata": {},
   "source": [
    "# JavaScript is mainly used to enhance the interactivity and functionality of webpages. JavaScript and HTML have differene uses, and when utilized properly it can properly complete your webpage. HTML is used to create the content of your Webpage which includes, words, images, lists, and basic structure of a webpage"
   ]
  },
  {
   "cell_type": "markdown",
   "metadata": {},
   "source": [
    "## Veriables in JavaScript"
   ]
  },
  {
   "cell_type": "markdown",
   "metadata": {},
   "source": [
    "# Variable are basic code and commands in javascript that have different functionalities."
   ]
  },
  {
   "cell_type": "code",
   "execution_count": null,
   "metadata": {
    "vscode": {
     "languageId": "javascript"
    }
   },
   "outputs": [],
   "source": [
    "var myVariable = 10;\n",
    "var myString = \"Hello, World!\";"
   ]
  },
  {
   "cell_type": "markdown",
   "metadata": {},
   "source": [
    "## Data types "
   ]
  },
  {
   "cell_type": "markdown",
   "metadata": {},
   "source": [
    "# Data types are used for mathematical and logical operation so there are no errors."
   ]
  },
  {
   "cell_type": "code",
   "execution_count": null,
   "metadata": {
    "vscode": {
     "languageId": "javascript"
    }
   },
   "outputs": [],
   "source": [
    "var num = 42;\n",
    "var greeting = \"Hello!\";\n",
    "var isTrue = true;\n",
    "var myArray = [1, 2, 3, 4];\n",
    "var person = { name: \"John\", age: 30 };"
   ]
  },
  {
   "cell_type": "markdown",
   "metadata": {},
   "source": [
    "# Functions"
   ]
  },
  {
   "cell_type": "markdown",
   "metadata": {},
   "source": [
    "# Funtions are blocks of code that can be defined and then called by name. They can take parameters and return values."
   ]
  },
  {
   "cell_type": "code",
   "execution_count": null,
   "metadata": {
    "vscode": {
     "languageId": "javascript"
    }
   },
   "outputs": [],
   "source": [
    "function add(a, b) {\n",
    "    return a + b;\n",
    "}\n",
    "\n",
    "var result = add(3, 5); // result will be 8"
   ]
  },
  {
   "cell_type": "markdown",
   "metadata": {},
   "source": [
    "# Control Structures"
   ]
  },
  {
   "cell_type": "markdown",
   "metadata": {},
   "source": [
    "# JavasScript includes typical control structures like loops and conditional statements"
   ]
  },
  {
   "cell_type": "code",
   "execution_count": null,
   "metadata": {
    "vscode": {
     "languageId": "javascript"
    }
   },
   "outputs": [],
   "source": [
    "for (var i = 0; i < 5; i++) {\n",
    "    console.log(i); // prints 0 to 4\n",
    "}\n",
    "\n",
    "if (num > 0) {\n",
    "    console.log(\"Number is positive\");\n",
    "} else {\n",
    "    console.log(\"Number is non-positive\");\n",
    "}\n",
    "DOM Manipulation: JavaScript can be used to manipulate the Document Object Model (DOM) of a web page, allowing you to change the content and appearance of elements on the page.\n",
    "\n",
    "javascript\n",
    "Copy code\n",
    "// HTML: <div id=\"myDiv\">Hello, World!</div>\n",
    "\n",
    "var element = document.getElementById(\"myDiv\");\n",
    "element.innerHTML = \"Hello, JavaScript!\";\n",
    "To use JavaScript in a web page, you can include your JavaScript code inside <script> tags in the HTML file, either in the <head> or <body> section.\n",
    "\n",
    "Example:\n",
    "\n",
    "html\n",
    "Copy code\n",
    "<!DOCTYPE html>\n",
    "<html>\n",
    "<head>\n",
    "    <title>JavaScript Example</title>\n",
    "    <script>\n",
    "        function myFunction() {\n",
    "            alert(\"Hello, JavaScript!\");\n",
    "        }\n",
    "    </script>\n",
    "</head>\n",
    "<body>\n",
    "    <button onclick=\"myFunction()\">Click Me!</button>\n",
    "</body>\n",
    "</html>\n",
    "In this example, when the button is clicked, the myFunction() JavaScript function is called, displaying an alert with the message \"Hello, JavaScript!\"\n",
    "\n",
    "\n",
    "\n",
    "\n",
    "\n"
   ]
  },
  {
   "cell_type": "markdown",
   "metadata": {},
   "source": [
    "## DOM Manipulation"
   ]
  },
  {
   "cell_type": "markdown",
   "metadata": {},
   "source": [
    "# JavaScript can be used to manipulate the Document Object Model (DOM) of a web page, allowing you to change the content and appearance of elements on the page."
   ]
  },
  {
   "cell_type": "code",
   "execution_count": null,
   "metadata": {
    "vscode": {
     "languageId": "javascript"
    }
   },
   "outputs": [],
   "source": [
    "// HTML: <div id=\"myDiv\">Hello, World!</div>\n",
    "\n",
    "var element = document.getElementById(\"myDiv\""
   ]
  },
  {
   "cell_type": "markdown",
   "metadata": {},
   "source": [
    "# To use this on a web page include Javascripit code inside the script and below when myfunction is clicked JavaScript will display Hello JavaScript."
   ]
  },
  {
   "cell_type": "code",
   "execution_count": null,
   "metadata": {
    "vscode": {
     "languageId": "javascript"
    }
   },
   "outputs": [],
   "source": [
    "<html>\n",
    "<head>\n",
    "    <title>JavaScipt Examples</title>\n",
    "    <script>\n",
    "        function myFunction() {\n",
    "            alert(\"Hello, JavaScript!\")\n",
    "        }\n",
    "    </script>\n",
    "</head>\n",
    "<body>\n",
    "    <button onclick=\"myFunction()\">Click Me!</button>\n",
    "</body>\n",
    "</html>"
   ]
  }
 ],
 "metadata": {
  "kernelspec": {
   "display_name": "Python 3",
   "language": "python",
   "name": "python3"
  },
  "language_info": {
   "codemirror_mode": {
    "name": "ipython",
    "version": 3
   },
   "file_extension": ".py",
   "mimetype": "text/x-python",
   "name": "python",
   "nbconvert_exporter": "python",
   "pygments_lexer": "ipython3",
   "version": "3.11.4"
  },
  "orig_nbformat": 4
 },
 "nbformat": 4,
 "nbformat_minor": 2
}
