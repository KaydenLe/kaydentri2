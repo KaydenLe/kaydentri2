{
 "cells": [
  {
   "cell_type": "markdown",
   "metadata": {},
   "source": [
    "---\n",
    "toc: true\n",
    "comments: true\n",
    "layout: post\n",
    "title: Team Test\n",
    "courses: { compsci: {week: 5} }\n",
    "type: hacks\n",
    "---\n",
    "<h2>Group Names: Marcus H, Hao Y, Kayden L, Ameer H</h3>\n",
    "<h3> What are the benefits of a team? Explain some of the diveristies that your team has to offer. </h2>\n",
    "<h4> Some benefits of being in a team include that there are more perspectives to add on a topic/problem, so that you can create a solution that is true to most point of views. Not only that but the team members can learn from one another. When people with different skills and knowledge work together, they have the opportunity to acquire new skills and expand their knowledge base. When working in a team you can accomplish more in a quicker amount of time.\n",
    "The distribution of tasks and responsibilities can lead to quicker project completion. </h4>\n",
    "<h3> Describe how you will facilitate communication amongst group members. </h3>\n",
    "<h4> in order to facilitate communication amongst group members, we must establish clear goals and objectives. To add onto this, by assigning a team leader/scrum master will help keep the flow of work smooth, as the team leader will overlook completion of the tasks and participation of each group members. By having regular meetings and check-ins, we can make sure that the work is up to date with completion, and that all members of the group are on the same page.</h4>\n",
    "<h3> How will you hold each person accountable for their portion of the work? Think about dates, review tickets, and peer revies. </h3>\n",
    "<h4> We can hold each person accountable for their portion of the work by having dates where we will hold meetings/check-ins. This gives a partial completion date for the group members at certain times which will make sure that the project and work will be completed efficiently at the correct time. By holding these check-ins, the group and team leader will be able to see who isn't up-to-date on their work, meaning that they will need to catch up. The more check-ins that we will have, the better the quality of work we will have for the final project, as well as it being submitted on time.</h4>"
   ]
  },
  {
   "cell_type": "markdown",
   "metadata": {},
   "source": [
    "## Program with output\n"
   ]
  },
  {
   "cell_type": "code",
   "execution_count": null,
   "metadata": {},
   "outputs": [],
   "source": [
    "print(\"Hello!\")"
   ]
  },
  {
   "cell_type": "markdown",
   "metadata": {},
   "source": [
    "## Program with input and output"
   ]
  },
  {
   "cell_type": "code",
   "execution_count": null,
   "metadata": {},
   "outputs": [],
   "source": [
    "name = input(\"What's your name? \")\n",
    "print(f\"Hello, {name}!\")"
   ]
  },
  {
   "cell_type": "markdown",
   "metadata": {},
   "source": [
    "## Program with a list"
   ]
  },
  {
   "cell_type": "code",
   "execution_count": null,
   "metadata": {},
   "outputs": [],
   "source": [
    "fruits = [\"apple\", \"banana\", \"cherry\"]\n",
    "print(fruits)"
   ]
  },
  {
   "cell_type": "markdown",
   "metadata": {},
   "source": [
    "## Program with a Dictionary"
   ]
  },
  {
   "cell_type": "code",
   "execution_count": null,
   "metadata": {},
   "outputs": [],
   "source": [
    "person = {\n",
    "    \"name\": \"Alice\",\n",
    "    \"age\": 30,\n",
    "    \"city\": \"New York\"\n",
    "}\n",
    "print(person)"
   ]
  },
  {
   "cell_type": "markdown",
   "metadata": {},
   "source": [
    "## Program with iteration"
   ]
  },
  {
   "cell_type": "code",
   "execution_count": null,
   "metadata": {},
   "outputs": [],
   "source": [
    "for i in range(5):\n",
    "    print(i)"
   ]
  },
  {
   "cell_type": "markdown",
   "metadata": {},
   "source": [
    "## Program with a Function to preform mathematical and/or statistical calculations"
   ]
  },
  {
   "cell_type": "code",
   "execution_count": null,
   "metadata": {},
   "outputs": [],
   "source": [
    "def mean(numbers):\n",
    "    return sum(numbers) / len(numbers)\n",
    "numbers = [1, 2, 3, 4, 5]\n",
    "average = mean(numbers)\n",
    "print(f\"The mean of the numbers is: {average}\")"
   ]
  },
  {
   "cell_type": "markdown",
   "metadata": {},
   "source": [
    "## Program with a Selection/Condition"
   ]
  },
  {
   "cell_type": "code",
   "execution_count": null,
   "metadata": {},
   "outputs": [],
   "source": [
    "temperature = 25  # Example temperature\n",
    "if temperature > 30:\n",
    "    print(\"It's a hot day!\")\n",
    "elif temperature < 10:\n",
    "    print(\"It's a cold day!\")\n",
    "else:\n",
    "    print(\"The temperature is moderate!\")"
   ]
  },
  {
   "cell_type": "markdown",
   "metadata": {},
   "source": [
    "## Program with a simple purpose: A calculator"
   ]
  },
  {
   "cell_type": "code",
   "execution_count": null,
   "metadata": {},
   "outputs": [],
   "source": [
    "def calculator(a, b, operation):\n",
    "    if operation == \"+\":\n",
    "        return a + b\n",
    "    elif operation == \"-\":\n",
    "        return a - b\n",
    "    elif operation == \"*\":\n",
    "        return a * b\n",
    "    elif operation == \"/\":\n",
    "        if b == 0:\n",
    "            return \"Division by zero is not allowed\"\n",
    "        return a / b\n",
    "    else:\n",
    "        return \"Invalid operation\"\n",
    "# Example usage\n",
    "a = float(input(\"Enter first number: \"))\n",
    "b = float(input(\"Enter second number: \"))\n",
    "operation = input(\"Enter operation (+, -, *, /): \")\n",
    "result = calculator(a, b, operation)\n",
    "print(f\"The result is: {result}\")"
   ]
  },
  {
   "cell_type": "markdown",
   "metadata": {},
   "source": [
    "## Program Design and Development\n",
    "\n",
    "# 1. Create a Visual Illiustration of a progream, algorithm, or process:"
   ]
  },
  {
   "cell_type": "markdown",
   "metadata": {},
   "source": [
    "![Flowchart](https://www.conceptdraw.com/How-To-Guide/picture/Flowchart-Example2.png)"
   ]
  },
  {
   "cell_type": "markdown",
   "metadata": {},
   "source": [
    "#  2. Show documentation of a program with a List and Iteration"
   ]
  },
  {
   "cell_type": "code",
   "execution_count": null,
   "metadata": {},
   "outputs": [],
   "source": [
    "def sum_even_numbers(numbers):\n",
    "    \"\"\"\n",
    "    Calculates the sum of even numbers in a list.\n",
    "    Parameters:\n",
    "    numbers (list): A list of integers.\n",
    "    Returns:\n",
    "    int: The sum of even numbers in the list.\n",
    "    \"\"\"\n",
    "    even_sum = 0  # Initialize the sum to zero\n",
    "    for num in numbers:\n",
    "        if num % 2 == 0:  # Check if the number is even\n",
    "            even_sum += num  # Add even number to the sum\n",
    "    return even_sum\n",
    "# Example list of numbers\n",
    "numbers_list = [1, 2, 3, 4, 5, 6, 7, 8, 9, 10]\n",
    "# Calculate the sum of even numbers in the list\n",
    "result = sum_even_numbers(numbers_list)\n",
    "# Display the result\n",
    "print(\"List of numbers:\", numbers_list)\n",
    "print(\"Sum of even numbers:\", result)"
   ]
  }
 ],
 "metadata": {
  "kernelspec": {
   "display_name": "Python 3",
   "language": "python",
   "name": "python3"
  },
  "language_info": {
   "codemirror_mode": {
    "name": "ipython",
    "version": 3
   },
   "file_extension": ".py",
   "mimetype": "text/x-python",
   "name": "python",
   "nbconvert_exporter": "python",
   "pygments_lexer": "ipython3",
   "version": "3.11.4"
  },
  "orig_nbformat": 4
 },
 "nbformat": 4,
 "nbformat_minor": 2
}
