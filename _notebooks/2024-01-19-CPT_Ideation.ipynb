{
 "cells": [
  {
   "cell_type": "markdown",
   "metadata": {},
   "source": [
    "---\n",
    "toc: false\n",
    "comments: true\n",
    "layout: post\n",
    "title: CPT Ideation\n",
    "description: CPT Ideation thoughts \n",
    "courses: { compsci: {week: 6 } }\n",
    "type: hacks\n",
    "---"
   ]
  },
  {
   "cell_type": "markdown",
   "metadata": {},
   "source": [
    "If I was able to code anything that I wanted to in this class it would probably be\n",
    "\n",
    "A game\n",
    "A social media platform\n",
    "AI\n",
    "If I was given the freedom to create these I would only look forward to the outcome of how it would turn out. It we keep me motivated and productive because I would want to see how what could be the next social media platform or what would be a cool game to code such as a battle royale game. Of course if i did create those I would never be able to finish them because nothing is really ever done. But I would be motivated because I would want to know how I could improve those things. I would measure success in my team by creating a roadmap and set goals. I would maintain motivation because it something I want to do."
   ]
  }
 ],
 "metadata": {
  "language_info": {
   "name": "python"
  },
  "orig_nbformat": 4
 },
 "nbformat": 4,
 "nbformat_minor": 2
}
